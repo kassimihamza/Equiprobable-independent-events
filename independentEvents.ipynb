{
 "cells": [
  {
   "attachments": {},
   "cell_type": "markdown",
   "metadata": {},
   "source": [
    "#  Equiprobable independent events\n",
    "\n",
    "Two friends have a date between 18 and 19 o'clock. They arrive at random time during this time interval. \n",
    "\n",
    "> - 1 - What is the average time between the first and second arrival. \n",
    "> - 2 - Check it with a Monte Carlo simulation."
   ]
  },
  {
   "cell_type": "code",
   "execution_count": 1,
   "metadata": {},
   "outputs": [
    {
     "name": "stdout",
     "output_type": "stream",
     "text": [
      "The average time between the first and second arrival is : 19.994444444444444\n",
      "The average time between the first and second arrival is : 19.996579589372775\n"
     ]
    }
   ],
   "source": [
    "from random import random\n",
    "\n",
    "\n",
    "avg1=[]\n",
    "for i in range(0,60):\n",
    "    for j in range(0,60):\n",
    "        avg1.append(abs(i-j))\n",
    "print(f'The average time between the first and second arrival is : {sum(avg1)/len(avg1)}')\n",
    "\n",
    "\n",
    "avg2=[]\n",
    "for i in range(1000000):\n",
    "    avg2.append(abs(random()-random()))\n",
    "    \n",
    "print(f'The average time between the first and second arrival is : {60*sum(avg2)/len(avg2)}')"
   ]
  }
 ],
 "metadata": {
  "kernelspec": {
   "display_name": "LAB_3.9",
   "language": "python",
   "name": "python3"
  },
  "language_info": {
   "codemirror_mode": {
    "name": "ipython",
    "version": 3
   },
   "file_extension": ".py",
   "mimetype": "text/x-python",
   "name": "python",
   "nbconvert_exporter": "python",
   "pygments_lexer": "ipython3",
   "version": "3.9.6"
  },
  "orig_nbformat": 4,
  "vscode": {
   "interpreter": {
    "hash": "e48b19f9f8d709e6b57f271159c87fc73f29fa35c506032707da295a07b5d54e"
   }
  }
 },
 "nbformat": 4,
 "nbformat_minor": 2
}
